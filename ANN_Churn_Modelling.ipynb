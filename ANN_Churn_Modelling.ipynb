{
  "nbformat": 4,
  "nbformat_minor": 0,
  "metadata": {
    "colab": {
      "name": "ANN-Churn-Modelling.ipynb",
      "provenance": [],
      "authorship_tag": "ABX9TyPKc6TXsanHiPJcoSRJ60nT",
      "include_colab_link": true
    },
    "kernelspec": {
      "name": "python3",
      "display_name": "Python 3"
    }
  },
  "cells": [
    {
      "cell_type": "markdown",
      "metadata": {
        "id": "view-in-github",
        "colab_type": "text"
      },
      "source": [
        "<a href=\"https://colab.research.google.com/github/Alihasnat10/ANN-Churn-Modelling/blob/master/ANN_Churn_Modelling.ipynb\" target=\"_parent\"><img src=\"https://colab.research.google.com/assets/colab-badge.svg\" alt=\"Open In Colab\"/></a>"
      ]
    },
    {
      "cell_type": "markdown",
      "metadata": {
        "id": "Ra9WsjLLUR8d",
        "colab_type": "text"
      },
      "source": [
        "# **ARTIFICIAL NEURAL NETWORKS**\n",
        "## **BANK CUSTOMER CHURN PREDICTION**\n",
        "\n",
        "\n",
        "\n",
        "IMPORTING LIBRARIES\n",
        "\n",
        "---\n",
        "\n"
      ]
    },
    {
      "cell_type": "code",
      "metadata": {
        "id": "RVuTXESY7cgD",
        "colab_type": "code",
        "colab": {}
      },
      "source": [
        "import numpy as np\n",
        "import pandas as pd\n",
        "import tensorflow as tf"
      ],
      "execution_count": 43,
      "outputs": []
    },
    {
      "cell_type": "code",
      "metadata": {
        "id": "SUcrPX9o7rKe",
        "colab_type": "code",
        "colab": {
          "base_uri": "https://localhost:8080/",
          "height": 35
        },
        "outputId": "d4711432-47d0-4ca7-83b7-5f46bf398f38"
      },
      "source": [
        "tf.__version__"
      ],
      "execution_count": null,
      "outputs": [
        {
          "output_type": "execute_result",
          "data": {
            "application/vnd.google.colaboratory.intrinsic+json": {
              "type": "string"
            },
            "text/plain": [
              "'2.3.0'"
            ]
          },
          "metadata": {
            "tags": []
          },
          "execution_count": 2
        }
      ]
    },
    {
      "cell_type": "markdown",
      "metadata": {
        "id": "ofsBKn69Uynh",
        "colab_type": "text"
      },
      "source": [
        "IMPORTING DATASET"
      ]
    },
    {
      "cell_type": "code",
      "metadata": {
        "id": "PFOF2RFu76kA",
        "colab_type": "code",
        "colab": {}
      },
      "source": [
        "dataset = pd.read_csv('Churn_Modelling.csv')"
      ],
      "execution_count": null,
      "outputs": []
    },
    {
      "cell_type": "code",
      "metadata": {
        "id": "NWg0M0xZ8yVe",
        "colab_type": "code",
        "colab": {
          "base_uri": "https://localhost:8080/",
          "height": 215
        },
        "outputId": "cf5a1d6e-d8ff-4b81-9120-d424411d5744"
      },
      "source": [
        "dataset.head()"
      ],
      "execution_count": null,
      "outputs": [
        {
          "output_type": "execute_result",
          "data": {
            "text/html": [
              "<div>\n",
              "<style scoped>\n",
              "    .dataframe tbody tr th:only-of-type {\n",
              "        vertical-align: middle;\n",
              "    }\n",
              "\n",
              "    .dataframe tbody tr th {\n",
              "        vertical-align: top;\n",
              "    }\n",
              "\n",
              "    .dataframe thead th {\n",
              "        text-align: right;\n",
              "    }\n",
              "</style>\n",
              "<table border=\"1\" class=\"dataframe\">\n",
              "  <thead>\n",
              "    <tr style=\"text-align: right;\">\n",
              "      <th></th>\n",
              "      <th>RowNumber</th>\n",
              "      <th>CustomerId</th>\n",
              "      <th>Surname</th>\n",
              "      <th>CreditScore</th>\n",
              "      <th>Geography</th>\n",
              "      <th>Gender</th>\n",
              "      <th>Age</th>\n",
              "      <th>Tenure</th>\n",
              "      <th>Balance</th>\n",
              "      <th>NumOfProducts</th>\n",
              "      <th>HasCrCard</th>\n",
              "      <th>IsActiveMember</th>\n",
              "      <th>EstimatedSalary</th>\n",
              "      <th>Exited</th>\n",
              "    </tr>\n",
              "  </thead>\n",
              "  <tbody>\n",
              "    <tr>\n",
              "      <th>0</th>\n",
              "      <td>1</td>\n",
              "      <td>15634602</td>\n",
              "      <td>Hargrave</td>\n",
              "      <td>619</td>\n",
              "      <td>France</td>\n",
              "      <td>Female</td>\n",
              "      <td>42</td>\n",
              "      <td>2</td>\n",
              "      <td>0.00</td>\n",
              "      <td>1</td>\n",
              "      <td>1</td>\n",
              "      <td>1</td>\n",
              "      <td>101348.88</td>\n",
              "      <td>1</td>\n",
              "    </tr>\n",
              "    <tr>\n",
              "      <th>1</th>\n",
              "      <td>2</td>\n",
              "      <td>15647311</td>\n",
              "      <td>Hill</td>\n",
              "      <td>608</td>\n",
              "      <td>Spain</td>\n",
              "      <td>Female</td>\n",
              "      <td>41</td>\n",
              "      <td>1</td>\n",
              "      <td>83807.86</td>\n",
              "      <td>1</td>\n",
              "      <td>0</td>\n",
              "      <td>1</td>\n",
              "      <td>112542.58</td>\n",
              "      <td>0</td>\n",
              "    </tr>\n",
              "    <tr>\n",
              "      <th>2</th>\n",
              "      <td>3</td>\n",
              "      <td>15619304</td>\n",
              "      <td>Onio</td>\n",
              "      <td>502</td>\n",
              "      <td>France</td>\n",
              "      <td>Female</td>\n",
              "      <td>42</td>\n",
              "      <td>8</td>\n",
              "      <td>159660.80</td>\n",
              "      <td>3</td>\n",
              "      <td>1</td>\n",
              "      <td>0</td>\n",
              "      <td>113931.57</td>\n",
              "      <td>1</td>\n",
              "    </tr>\n",
              "    <tr>\n",
              "      <th>3</th>\n",
              "      <td>4</td>\n",
              "      <td>15701354</td>\n",
              "      <td>Boni</td>\n",
              "      <td>699</td>\n",
              "      <td>France</td>\n",
              "      <td>Female</td>\n",
              "      <td>39</td>\n",
              "      <td>1</td>\n",
              "      <td>0.00</td>\n",
              "      <td>2</td>\n",
              "      <td>0</td>\n",
              "      <td>0</td>\n",
              "      <td>93826.63</td>\n",
              "      <td>0</td>\n",
              "    </tr>\n",
              "    <tr>\n",
              "      <th>4</th>\n",
              "      <td>5</td>\n",
              "      <td>15737888</td>\n",
              "      <td>Mitchell</td>\n",
              "      <td>850</td>\n",
              "      <td>Spain</td>\n",
              "      <td>Female</td>\n",
              "      <td>43</td>\n",
              "      <td>2</td>\n",
              "      <td>125510.82</td>\n",
              "      <td>1</td>\n",
              "      <td>1</td>\n",
              "      <td>1</td>\n",
              "      <td>79084.10</td>\n",
              "      <td>0</td>\n",
              "    </tr>\n",
              "  </tbody>\n",
              "</table>\n",
              "</div>"
            ],
            "text/plain": [
              "   RowNumber  CustomerId   Surname  ...  IsActiveMember EstimatedSalary Exited\n",
              "0          1    15634602  Hargrave  ...               1       101348.88      1\n",
              "1          2    15647311      Hill  ...               1       112542.58      0\n",
              "2          3    15619304      Onio  ...               0       113931.57      1\n",
              "3          4    15701354      Boni  ...               0        93826.63      0\n",
              "4          5    15737888  Mitchell  ...               1        79084.10      0\n",
              "\n",
              "[5 rows x 14 columns]"
            ]
          },
          "metadata": {
            "tags": []
          },
          "execution_count": 5
        }
      ]
    },
    {
      "cell_type": "markdown",
      "metadata": {
        "id": "RQV72Tu6U254",
        "colab_type": "text"
      },
      "source": [
        "## **DATA PREPROCESSING**"
      ]
    },
    {
      "cell_type": "code",
      "metadata": {
        "id": "j2FxxgkC9b6k",
        "colab_type": "code",
        "colab": {}
      },
      "source": [
        "dataset = pd.read_csv('Churn_Modelling.csv')\n",
        "X = dataset.iloc[:, 3:-1].values\n",
        "y = dataset.iloc[:, -1].values"
      ],
      "execution_count": null,
      "outputs": []
    },
    {
      "cell_type": "code",
      "metadata": {
        "id": "HNdl8FKu-g3r",
        "colab_type": "code",
        "colab": {
          "base_uri": "https://localhost:8080/",
          "height": 151
        },
        "outputId": "2da45b28-6830-4fc4-aab4-ece429b23552"
      },
      "source": [
        "print(X)\n",
        "print(y)"
      ],
      "execution_count": null,
      "outputs": [
        {
          "output_type": "stream",
          "text": [
            "[[619 'France' 'Female' ... 1 1 101348.88]\n",
            " [608 'Spain' 'Female' ... 0 1 112542.58]\n",
            " [502 'France' 'Female' ... 1 0 113931.57]\n",
            " ...\n",
            " [709 'France' 'Female' ... 0 1 42085.58]\n",
            " [772 'Germany' 'Male' ... 1 0 92888.52]\n",
            " [792 'France' 'Female' ... 1 0 38190.78]]\n",
            "[1 0 1 ... 1 1 0]\n"
          ],
          "name": "stdout"
        }
      ]
    },
    {
      "cell_type": "code",
      "metadata": {
        "id": "dRCisO1M-n9p",
        "colab_type": "code",
        "colab": {
          "base_uri": "https://localhost:8080/",
          "height": 134
        },
        "outputId": "e8d605c6-de6f-4358-f77b-ca46527033bd"
      },
      "source": [
        "from sklearn.preprocessing import LabelEncoder\n",
        "le = LabelEncoder()\n",
        "X[:, 2] = le.fit_transform(X[:, 2])\n",
        "print(X)"
      ],
      "execution_count": 22,
      "outputs": [
        {
          "output_type": "stream",
          "text": [
            "[[619 'France' 0 ... 1 1 101348.88]\n",
            " [608 'Spain' 0 ... 0 1 112542.58]\n",
            " [502 'France' 0 ... 1 0 113931.57]\n",
            " ...\n",
            " [709 'France' 0 ... 0 1 42085.58]\n",
            " [772 'Germany' 1 ... 1 0 92888.52]\n",
            " [792 'France' 0 ... 1 0 38190.78]]\n"
          ],
          "name": "stdout"
        }
      ]
    },
    {
      "cell_type": "code",
      "metadata": {
        "id": "iKUgc_cJQbkX",
        "colab_type": "code",
        "colab": {}
      },
      "source": [
        "from sklearn.preprocessing import OneHotEncoder"
      ],
      "execution_count": 23,
      "outputs": []
    },
    {
      "cell_type": "code",
      "metadata": {
        "id": "IB4ptrEbQcIn",
        "colab_type": "code",
        "colab": {}
      },
      "source": [
        "from sklearn.compose import ColumnTransformer\n",
        "from sklearn.preprocessing import OneHotEncoder\n",
        "ct = ColumnTransformer(transformers=[('encoder', OneHotEncoder(), [1])], remainder='passthrough')\n",
        "X = np.array(ct.fit_transform(X))"
      ],
      "execution_count": 26,
      "outputs": []
    },
    {
      "cell_type": "code",
      "metadata": {
        "id": "iILIAmviRT2h",
        "colab_type": "code",
        "colab": {
          "base_uri": "https://localhost:8080/",
          "height": 134
        },
        "outputId": "b776ec54-4d87-4f8f-d603-7a2a8c1ba23c"
      },
      "source": [
        "print(X)"
      ],
      "execution_count": 27,
      "outputs": [
        {
          "output_type": "stream",
          "text": [
            "[[1.0 0.0 0.0 ... 1 1 101348.88]\n",
            " [0.0 0.0 1.0 ... 0 1 112542.58]\n",
            " [1.0 0.0 0.0 ... 1 0 113931.57]\n",
            " ...\n",
            " [1.0 0.0 0.0 ... 0 1 42085.58]\n",
            " [0.0 1.0 0.0 ... 1 0 92888.52]\n",
            " [1.0 0.0 0.0 ... 1 0 38190.78]]\n"
          ],
          "name": "stdout"
        }
      ]
    },
    {
      "cell_type": "code",
      "metadata": {
        "id": "nd_-X7vQSdCh",
        "colab_type": "code",
        "colab": {}
      },
      "source": [
        "from sklearn.model_selection import train_test_split\n",
        "X_train, X_test, y_train, y_test = train_test_split(X, y, test_size = 0.2, random_state = 0)"
      ],
      "execution_count": 29,
      "outputs": []
    },
    {
      "cell_type": "code",
      "metadata": {
        "id": "YS5f6jbfShxg",
        "colab_type": "code",
        "colab": {}
      },
      "source": [
        "from sklearn.preprocessing import StandardScaler\n",
        "sc = StandardScaler()\n",
        "X_train = sc.fit_transform(X_train)\n",
        "X_test = sc.transform(X_test)"
      ],
      "execution_count": 30,
      "outputs": []
    },
    {
      "cell_type": "markdown",
      "metadata": {
        "id": "GwuTfQ4HVOvJ",
        "colab_type": "text"
      },
      "source": [
        "## **BUILDING ANN**"
      ]
    },
    {
      "cell_type": "code",
      "metadata": {
        "id": "wligecTKSJd0",
        "colab_type": "code",
        "colab": {}
      },
      "source": [
        "ann = tf.keras.Sequential()"
      ],
      "execution_count": 33,
      "outputs": []
    },
    {
      "cell_type": "code",
      "metadata": {
        "id": "ZT6BgPgeSTHK",
        "colab_type": "code",
        "colab": {}
      },
      "source": [
        "ann.add(tf.keras.layers.Dense(units = 6, activation = 'relu'))"
      ],
      "execution_count": 35,
      "outputs": []
    },
    {
      "cell_type": "code",
      "metadata": {
        "id": "q0EwqesqSi0z",
        "colab_type": "code",
        "colab": {}
      },
      "source": [
        "ann.add(tf.keras.layers.Dense(units = 6, activation = 'relu'))"
      ],
      "execution_count": 36,
      "outputs": []
    },
    {
      "cell_type": "code",
      "metadata": {
        "id": "p1I98ncqS6zp",
        "colab_type": "code",
        "colab": {}
      },
      "source": [
        "ann.add(tf.keras.layers.Dense(units = 1, activation = 'sigmoid'))"
      ],
      "execution_count": 37,
      "outputs": []
    },
    {
      "cell_type": "markdown",
      "metadata": {
        "id": "Q1jXK-Y8VWyn",
        "colab_type": "text"
      },
      "source": [
        "T"
      ]
    },
    {
      "cell_type": "markdown",
      "metadata": {
        "id": "moRm9NojVXGp",
        "colab_type": "text"
      },
      "source": [
        "## **TRAINING ANN**"
      ]
    },
    {
      "cell_type": "code",
      "metadata": {
        "id": "qC8KpOWuTEWc",
        "colab_type": "code",
        "colab": {}
      },
      "source": [
        "ann.compile(optimizer = 'adam', loss = 'binary_crossentropy', metrics = ['accuracy'])"
      ],
      "execution_count": 38,
      "outputs": []
    },
    {
      "cell_type": "code",
      "metadata": {
        "id": "MrwSDJJ-TIwY",
        "colab_type": "code",
        "colab": {
          "base_uri": "https://localhost:8080/",
          "height": 1000
        },
        "outputId": "04376fcd-88b5-4b53-f6ca-079569fe86e8"
      },
      "source": [
        "ann.fit(X_train, y_train, batch_size = 32, epochs = 100)"
      ],
      "execution_count": 39,
      "outputs": [
        {
          "output_type": "stream",
          "text": [
            "Epoch 1/100\n",
            "250/250 [==============================] - 0s 1ms/step - loss: 0.6458 - accuracy: 0.6254\n",
            "Epoch 2/100\n",
            "250/250 [==============================] - 0s 1ms/step - loss: 0.4681 - accuracy: 0.7971\n",
            "Epoch 3/100\n",
            "250/250 [==============================] - 0s 1ms/step - loss: 0.4396 - accuracy: 0.8034\n",
            "Epoch 4/100\n",
            "250/250 [==============================] - 0s 1ms/step - loss: 0.4271 - accuracy: 0.8043\n",
            "Epoch 5/100\n",
            "250/250 [==============================] - 0s 1ms/step - loss: 0.4174 - accuracy: 0.8081\n",
            "Epoch 6/100\n",
            "250/250 [==============================] - 0s 1ms/step - loss: 0.4085 - accuracy: 0.8126\n",
            "Epoch 7/100\n",
            "250/250 [==============================] - 0s 1ms/step - loss: 0.3994 - accuracy: 0.8202\n",
            "Epoch 8/100\n",
            "250/250 [==============================] - 0s 1ms/step - loss: 0.3901 - accuracy: 0.8273\n",
            "Epoch 9/100\n",
            "250/250 [==============================] - 0s 1ms/step - loss: 0.3812 - accuracy: 0.8339\n",
            "Epoch 10/100\n",
            "250/250 [==============================] - 0s 970us/step - loss: 0.3733 - accuracy: 0.8403\n",
            "Epoch 11/100\n",
            "250/250 [==============================] - 0s 948us/step - loss: 0.3670 - accuracy: 0.8449\n",
            "Epoch 12/100\n",
            "250/250 [==============================] - 0s 1ms/step - loss: 0.3621 - accuracy: 0.8484\n",
            "Epoch 13/100\n",
            "250/250 [==============================] - 0s 1ms/step - loss: 0.3584 - accuracy: 0.8515\n",
            "Epoch 14/100\n",
            "250/250 [==============================] - 0s 964us/step - loss: 0.3555 - accuracy: 0.8547\n",
            "Epoch 15/100\n",
            "250/250 [==============================] - 0s 1ms/step - loss: 0.3531 - accuracy: 0.8558\n",
            "Epoch 16/100\n",
            "250/250 [==============================] - 0s 1ms/step - loss: 0.3517 - accuracy: 0.8564\n",
            "Epoch 17/100\n",
            "250/250 [==============================] - 0s 974us/step - loss: 0.3506 - accuracy: 0.8571\n",
            "Epoch 18/100\n",
            "250/250 [==============================] - 0s 1ms/step - loss: 0.3497 - accuracy: 0.8572\n",
            "Epoch 19/100\n",
            "250/250 [==============================] - 0s 1ms/step - loss: 0.3486 - accuracy: 0.8570\n",
            "Epoch 20/100\n",
            "250/250 [==============================] - 0s 1ms/step - loss: 0.3477 - accuracy: 0.8589\n",
            "Epoch 21/100\n",
            "250/250 [==============================] - 0s 986us/step - loss: 0.3473 - accuracy: 0.8575\n",
            "Epoch 22/100\n",
            "250/250 [==============================] - 0s 1ms/step - loss: 0.3463 - accuracy: 0.8583\n",
            "Epoch 23/100\n",
            "250/250 [==============================] - 0s 1ms/step - loss: 0.3463 - accuracy: 0.8581\n",
            "Epoch 24/100\n",
            "250/250 [==============================] - 0s 1ms/step - loss: 0.3456 - accuracy: 0.8577\n",
            "Epoch 25/100\n",
            "250/250 [==============================] - 0s 1ms/step - loss: 0.3457 - accuracy: 0.8583\n",
            "Epoch 26/100\n",
            "250/250 [==============================] - 0s 1ms/step - loss: 0.3447 - accuracy: 0.8590\n",
            "Epoch 27/100\n",
            "250/250 [==============================] - 0s 983us/step - loss: 0.3441 - accuracy: 0.8568\n",
            "Epoch 28/100\n",
            "250/250 [==============================] - 0s 995us/step - loss: 0.3444 - accuracy: 0.8575\n",
            "Epoch 29/100\n",
            "250/250 [==============================] - 0s 1ms/step - loss: 0.3439 - accuracy: 0.8581\n",
            "Epoch 30/100\n",
            "250/250 [==============================] - 0s 985us/step - loss: 0.3434 - accuracy: 0.8577\n",
            "Epoch 31/100\n",
            "250/250 [==============================] - 0s 1ms/step - loss: 0.3433 - accuracy: 0.8590\n",
            "Epoch 32/100\n",
            "250/250 [==============================] - 0s 991us/step - loss: 0.3431 - accuracy: 0.8571\n",
            "Epoch 33/100\n",
            "250/250 [==============================] - 0s 1ms/step - loss: 0.3431 - accuracy: 0.8591\n",
            "Epoch 34/100\n",
            "250/250 [==============================] - 0s 1ms/step - loss: 0.3424 - accuracy: 0.8589\n",
            "Epoch 35/100\n",
            "250/250 [==============================] - 0s 1ms/step - loss: 0.3421 - accuracy: 0.8581\n",
            "Epoch 36/100\n",
            "250/250 [==============================] - 0s 976us/step - loss: 0.3423 - accuracy: 0.8595\n",
            "Epoch 37/100\n",
            "250/250 [==============================] - 0s 1ms/step - loss: 0.3420 - accuracy: 0.8586\n",
            "Epoch 38/100\n",
            "250/250 [==============================] - 0s 997us/step - loss: 0.3419 - accuracy: 0.8593\n",
            "Epoch 39/100\n",
            "250/250 [==============================] - 0s 1ms/step - loss: 0.3421 - accuracy: 0.8581\n",
            "Epoch 40/100\n",
            "250/250 [==============================] - 0s 953us/step - loss: 0.3419 - accuracy: 0.8579\n",
            "Epoch 41/100\n",
            "250/250 [==============================] - 0s 995us/step - loss: 0.3417 - accuracy: 0.8590\n",
            "Epoch 42/100\n",
            "250/250 [==============================] - 0s 1ms/step - loss: 0.3415 - accuracy: 0.8580\n",
            "Epoch 43/100\n",
            "250/250 [==============================] - 0s 1ms/step - loss: 0.3412 - accuracy: 0.8587\n",
            "Epoch 44/100\n",
            "250/250 [==============================] - 0s 994us/step - loss: 0.3411 - accuracy: 0.8590\n",
            "Epoch 45/100\n",
            "250/250 [==============================] - 0s 945us/step - loss: 0.3411 - accuracy: 0.8591\n",
            "Epoch 46/100\n",
            "250/250 [==============================] - 0s 972us/step - loss: 0.3409 - accuracy: 0.8585\n",
            "Epoch 47/100\n",
            "250/250 [==============================] - 0s 964us/step - loss: 0.3408 - accuracy: 0.8587\n",
            "Epoch 48/100\n",
            "250/250 [==============================] - 0s 1ms/step - loss: 0.3407 - accuracy: 0.8590\n",
            "Epoch 49/100\n",
            "250/250 [==============================] - 0s 954us/step - loss: 0.3406 - accuracy: 0.8595\n",
            "Epoch 50/100\n",
            "250/250 [==============================] - 0s 966us/step - loss: 0.3406 - accuracy: 0.8586\n",
            "Epoch 51/100\n",
            "250/250 [==============================] - 0s 961us/step - loss: 0.3404 - accuracy: 0.8600\n",
            "Epoch 52/100\n",
            "250/250 [==============================] - 0s 1ms/step - loss: 0.3406 - accuracy: 0.8596\n",
            "Epoch 53/100\n",
            "250/250 [==============================] - 0s 950us/step - loss: 0.3401 - accuracy: 0.8605\n",
            "Epoch 54/100\n",
            "250/250 [==============================] - 0s 954us/step - loss: 0.3402 - accuracy: 0.8608\n",
            "Epoch 55/100\n",
            "250/250 [==============================] - 0s 1ms/step - loss: 0.3403 - accuracy: 0.8597\n",
            "Epoch 56/100\n",
            "250/250 [==============================] - 0s 932us/step - loss: 0.3404 - accuracy: 0.8591\n",
            "Epoch 57/100\n",
            "250/250 [==============================] - 0s 997us/step - loss: 0.3401 - accuracy: 0.8594\n",
            "Epoch 58/100\n",
            "250/250 [==============================] - 0s 1ms/step - loss: 0.3398 - accuracy: 0.8605\n",
            "Epoch 59/100\n",
            "250/250 [==============================] - 0s 979us/step - loss: 0.3399 - accuracy: 0.8597\n",
            "Epoch 60/100\n",
            "250/250 [==============================] - 0s 1ms/step - loss: 0.3398 - accuracy: 0.8596\n",
            "Epoch 61/100\n",
            "250/250 [==============================] - 0s 1ms/step - loss: 0.3395 - accuracy: 0.8602\n",
            "Epoch 62/100\n",
            "250/250 [==============================] - 0s 965us/step - loss: 0.3398 - accuracy: 0.8610\n",
            "Epoch 63/100\n",
            "250/250 [==============================] - 0s 942us/step - loss: 0.3398 - accuracy: 0.8601\n",
            "Epoch 64/100\n",
            "250/250 [==============================] - 0s 988us/step - loss: 0.3394 - accuracy: 0.8614\n",
            "Epoch 65/100\n",
            "250/250 [==============================] - 0s 951us/step - loss: 0.3395 - accuracy: 0.8599\n",
            "Epoch 66/100\n",
            "250/250 [==============================] - 0s 954us/step - loss: 0.3395 - accuracy: 0.8599\n",
            "Epoch 67/100\n",
            "250/250 [==============================] - 0s 970us/step - loss: 0.3391 - accuracy: 0.8594\n",
            "Epoch 68/100\n",
            "250/250 [==============================] - 0s 927us/step - loss: 0.3390 - accuracy: 0.8608\n",
            "Epoch 69/100\n",
            "250/250 [==============================] - 0s 949us/step - loss: 0.3394 - accuracy: 0.8609\n",
            "Epoch 70/100\n",
            "250/250 [==============================] - 0s 1ms/step - loss: 0.3388 - accuracy: 0.8602\n",
            "Epoch 71/100\n",
            "250/250 [==============================] - 0s 966us/step - loss: 0.3388 - accuracy: 0.8605\n",
            "Epoch 72/100\n",
            "250/250 [==============================] - 0s 974us/step - loss: 0.3388 - accuracy: 0.8604\n",
            "Epoch 73/100\n",
            "250/250 [==============================] - 0s 949us/step - loss: 0.3383 - accuracy: 0.8610\n",
            "Epoch 74/100\n",
            "250/250 [==============================] - 0s 945us/step - loss: 0.3383 - accuracy: 0.8611\n",
            "Epoch 75/100\n",
            "250/250 [==============================] - 0s 985us/step - loss: 0.3383 - accuracy: 0.8604\n",
            "Epoch 76/100\n",
            "250/250 [==============================] - 0s 1ms/step - loss: 0.3379 - accuracy: 0.8614\n",
            "Epoch 77/100\n",
            "250/250 [==============================] - 0s 1ms/step - loss: 0.3372 - accuracy: 0.8606\n",
            "Epoch 78/100\n",
            "250/250 [==============================] - 0s 929us/step - loss: 0.3371 - accuracy: 0.8604\n",
            "Epoch 79/100\n",
            "250/250 [==============================] - 0s 999us/step - loss: 0.3371 - accuracy: 0.8610\n",
            "Epoch 80/100\n",
            "250/250 [==============================] - 0s 1ms/step - loss: 0.3366 - accuracy: 0.8630\n",
            "Epoch 81/100\n",
            "250/250 [==============================] - 0s 1ms/step - loss: 0.3363 - accuracy: 0.8626\n",
            "Epoch 82/100\n",
            "250/250 [==============================] - 0s 950us/step - loss: 0.3364 - accuracy: 0.8641\n",
            "Epoch 83/100\n",
            "250/250 [==============================] - 0s 1ms/step - loss: 0.3360 - accuracy: 0.8620\n",
            "Epoch 84/100\n",
            "250/250 [==============================] - 0s 1ms/step - loss: 0.3360 - accuracy: 0.8629\n",
            "Epoch 85/100\n",
            "250/250 [==============================] - 0s 1ms/step - loss: 0.3356 - accuracy: 0.8626\n",
            "Epoch 86/100\n",
            "250/250 [==============================] - 0s 1ms/step - loss: 0.3355 - accuracy: 0.8629\n",
            "Epoch 87/100\n",
            "250/250 [==============================] - 0s 982us/step - loss: 0.3351 - accuracy: 0.8640\n",
            "Epoch 88/100\n",
            "250/250 [==============================] - 0s 938us/step - loss: 0.3354 - accuracy: 0.8636\n",
            "Epoch 89/100\n",
            "250/250 [==============================] - 0s 965us/step - loss: 0.3353 - accuracy: 0.8612\n",
            "Epoch 90/100\n",
            "250/250 [==============================] - 0s 984us/step - loss: 0.3351 - accuracy: 0.8635\n",
            "Epoch 91/100\n",
            "250/250 [==============================] - 0s 979us/step - loss: 0.3349 - accuracy: 0.8631\n",
            "Epoch 92/100\n",
            "250/250 [==============================] - 0s 981us/step - loss: 0.3344 - accuracy: 0.8622\n",
            "Epoch 93/100\n",
            "250/250 [==============================] - 0s 948us/step - loss: 0.3346 - accuracy: 0.8633\n",
            "Epoch 94/100\n",
            "250/250 [==============================] - 0s 1ms/step - loss: 0.3346 - accuracy: 0.8626\n",
            "Epoch 95/100\n",
            "250/250 [==============================] - 0s 985us/step - loss: 0.3343 - accuracy: 0.8641\n",
            "Epoch 96/100\n",
            "250/250 [==============================] - 0s 1ms/step - loss: 0.3339 - accuracy: 0.8630\n",
            "Epoch 97/100\n",
            "250/250 [==============================] - 0s 967us/step - loss: 0.3339 - accuracy: 0.8636\n",
            "Epoch 98/100\n",
            "250/250 [==============================] - 0s 991us/step - loss: 0.3339 - accuracy: 0.8621\n",
            "Epoch 99/100\n",
            "250/250 [==============================] - 0s 986us/step - loss: 0.3335 - accuracy: 0.8637\n",
            "Epoch 100/100\n",
            "250/250 [==============================] - 0s 1ms/step - loss: 0.3336 - accuracy: 0.8630\n"
          ],
          "name": "stdout"
        },
        {
          "output_type": "execute_result",
          "data": {
            "text/plain": [
              "<tensorflow.python.keras.callbacks.History at 0x7f0303080630>"
            ]
          },
          "metadata": {
            "tags": []
          },
          "execution_count": 39
        }
      ]
    },
    {
      "cell_type": "markdown",
      "metadata": {
        "id": "4FA1gFr7Vgnw",
        "colab_type": "text"
      },
      "source": [
        "## **MAKING PREDICTION**"
      ]
    },
    {
      "cell_type": "code",
      "metadata": {
        "id": "uaxM66clTNXx",
        "colab_type": "code",
        "colab": {
          "base_uri": "https://localhost:8080/",
          "height": 34
        },
        "outputId": "f0b208ac-e9ac-45e7-8a96-0d747adf699d"
      },
      "source": [
        "print(ann.predict(sc.transform([[1, 0, 0, 600, 1, 40, 3, 60000, 2, 1, 1, 50000]])) > 0.5)"
      ],
      "execution_count": 40,
      "outputs": [
        {
          "output_type": "stream",
          "text": [
            "[[False]]\n"
          ],
          "name": "stdout"
        }
      ]
    },
    {
      "cell_type": "code",
      "metadata": {
        "id": "SFSURHQATV40",
        "colab_type": "code",
        "colab": {
          "base_uri": "https://localhost:8080/",
          "height": 134
        },
        "outputId": "a58371ef-5121-4de7-fb67-6e520c8f4d14"
      },
      "source": [
        "y_pred = ann.predict(X_test)\n",
        "y_pred = (y_pred > 0.5)\n",
        "print(np.concatenate((y_pred.reshape(len(y_pred),1), y_test.reshape(len(y_test),1)),1))"
      ],
      "execution_count": 41,
      "outputs": [
        {
          "output_type": "stream",
          "text": [
            "[[0 0]\n",
            " [0 1]\n",
            " [0 0]\n",
            " ...\n",
            " [0 0]\n",
            " [0 0]\n",
            " [0 0]]\n"
          ],
          "name": "stdout"
        }
      ]
    },
    {
      "cell_type": "markdown",
      "metadata": {
        "id": "kjYRKX1FVmxC",
        "colab_type": "text"
      },
      "source": [
        "## **CONFUSION MATRIX**"
      ]
    },
    {
      "cell_type": "code",
      "metadata": {
        "id": "YcIqP82dTagF",
        "colab_type": "code",
        "colab": {
          "base_uri": "https://localhost:8080/",
          "height": 67
        },
        "outputId": "ddc0f186-e22c-45cb-f234-3bf716595c7f"
      },
      "source": [
        "from sklearn.metrics import confusion_matrix, accuracy_score\n",
        "cm = confusion_matrix(y_test, y_pred)\n",
        "print(cm)\n",
        "accuracy_score(y_test, y_pred)"
      ],
      "execution_count": 42,
      "outputs": [
        {
          "output_type": "stream",
          "text": [
            "[[1519   76]\n",
            " [ 197  208]]\n"
          ],
          "name": "stdout"
        },
        {
          "output_type": "execute_result",
          "data": {
            "text/plain": [
              "0.8635"
            ]
          },
          "metadata": {
            "tags": []
          },
          "execution_count": 42
        }
      ]
    },
    {
      "cell_type": "code",
      "metadata": {
        "id": "gbpsYP9ATc3B",
        "colab_type": "code",
        "colab": {}
      },
      "source": [
        ""
      ],
      "execution_count": null,
      "outputs": []
    }
  ]
}